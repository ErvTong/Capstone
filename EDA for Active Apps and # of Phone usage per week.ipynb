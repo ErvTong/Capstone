{
 "cells": [
  {
   "cell_type": "markdown",
   "metadata": {},
   "source": [
    "# Exploratory Data Analysis: Active Apps and Phone Usage"
   ]
  },
  {
   "cell_type": "code",
   "execution_count": 1,
   "metadata": {
    "collapsed": true
   },
   "outputs": [],
   "source": [
    "import pandas as pd\n",
    "from datetime import datetime\n",
    "from tqdm import tqdm\n",
    "import seaborn as sns\n",
    "import matplotlib.pyplot as plt\n",
    "import numpy as np\n",
    "from sklearn.preprocessing import LabelEncoder\n",
    "%matplotlib inline"
   ]
  },
  {
   "cell_type": "markdown",
   "metadata": {},
   "source": [
    "### Loading and Joining Tables"
   ]
  },
  {
   "cell_type": "code",
   "execution_count": 2,
   "metadata": {
    "collapsed": true
   },
   "outputs": [],
   "source": [
    "app_events=pd.read_csv('app_events.csv')\n",
    "app_labels= pd.read_csv('app_labels.csv')\n",
    "events= pd.read_csv('events.csv')\n",
    "label_categories= pd.read_csv('label_categories.csv')\n",
    "phone_brand= pd.read_csv('phone_brand_device_model.csv')\n",
    "gender_age_train= pd.read_csv('gender_age_train.csv')\n",
    "gender_age_test= pd.read_csv('gender_age_test.csv')"
   ]
  },
  {
   "cell_type": "code",
   "execution_count": 8,
   "metadata": {
    "collapsed": true
   },
   "outputs": [],
   "source": [
    "#Joining App Labels\n",
    "app_labels_merged = app_labels.merge(label_categories, on='label_id', how='left')\n",
    "app_labels_merged['category'] = app_labels_merged['category'].astype(str)\n",
    "app_labels_merged['app']= app_encoder.transform(app_labels_merged['app_id'])\n",
    "app_labels_merged.drop(['app_id','label_id'], axis=1, inplace=True)"
   ]
  },
  {
   "cell_type": "code",
   "execution_count": 4,
   "metadata": {
    "collapsed": true
   },
   "outputs": [],
   "source": [
    "app_events_merged = events.merge(app_events , on='event_id' )"
   ]
  },
  {
   "cell_type": "code",
   "execution_count": 3,
   "metadata": {
    "collapsed": true
   },
   "outputs": [],
   "source": [
    "#Encode app_ids\n",
    "app_encoder = LabelEncoder().fit(app_labels['app_id'])\n",
    "app_events_merged['apps'] = app_encoder.transform(app_events_merged['app_id'])"
   ]
  },
  {
   "cell_type": "code",
   "execution_count": 6,
   "metadata": {
    "collapsed": true
   },
   "outputs": [],
   "source": [
    "app_events_merged.drop(['event_id', 'app_id'], axis=1, inplace=True)"
   ]
  },
  {
   "cell_type": "code",
   "execution_count": 7,
   "metadata": {
    "collapsed": true
   },
   "outputs": [],
   "source": [
    "#Joining with train set\n",
    "train_apps = gender_age_train.merge(app_events_merged, on='device_id', how='left')\n",
    "train_apps.dropna(inplace=True)\n",
    "train_apps.drop_duplicates(inplace=True)\n",
    "train_apps['apps'] = train_apps['apps'].astype(int)"
   ]
  },
  {
   "cell_type": "code",
   "execution_count": 10,
   "metadata": {
    "scrolled": true
   },
   "outputs": [
    {
     "data": {
      "text/html": [
       "<div>\n",
       "<style>\n",
       "    .dataframe thead tr:only-child th {\n",
       "        text-align: right;\n",
       "    }\n",
       "\n",
       "    .dataframe thead th {\n",
       "        text-align: left;\n",
       "    }\n",
       "\n",
       "    .dataframe tbody tr th {\n",
       "        vertical-align: top;\n",
       "    }\n",
       "</style>\n",
       "<table border=\"1\" class=\"dataframe\">\n",
       "  <thead>\n",
       "    <tr style=\"text-align: right;\">\n",
       "      <th></th>\n",
       "      <th>device_id</th>\n",
       "      <th>gender</th>\n",
       "      <th>age</th>\n",
       "      <th>group</th>\n",
       "      <th>timestamp</th>\n",
       "      <th>longitude</th>\n",
       "      <th>latitude</th>\n",
       "      <th>is_installed</th>\n",
       "      <th>is_active</th>\n",
       "      <th>apps</th>\n",
       "    </tr>\n",
       "  </thead>\n",
       "  <tbody>\n",
       "    <tr>\n",
       "      <th>4406037</th>\n",
       "      <td>-8106907372370267374</td>\n",
       "      <td>F</td>\n",
       "      <td>27</td>\n",
       "      <td>F27-28</td>\n",
       "      <td>2016-05-07 15:09:06</td>\n",
       "      <td>0.00</td>\n",
       "      <td>0.00</td>\n",
       "      <td>1.0</td>\n",
       "      <td>1.0</td>\n",
       "      <td>91064</td>\n",
       "    </tr>\n",
       "    <tr>\n",
       "      <th>138793</th>\n",
       "      <td>2010853208400422281</td>\n",
       "      <td>F</td>\n",
       "      <td>26</td>\n",
       "      <td>F24-26</td>\n",
       "      <td>2016-05-03 10:54:22</td>\n",
       "      <td>0.00</td>\n",
       "      <td>0.00</td>\n",
       "      <td>1.0</td>\n",
       "      <td>0.0</td>\n",
       "      <td>52603</td>\n",
       "    </tr>\n",
       "    <tr>\n",
       "      <th>1787800</th>\n",
       "      <td>4010143991042312665</td>\n",
       "      <td>F</td>\n",
       "      <td>23</td>\n",
       "      <td>F23-</td>\n",
       "      <td>2016-05-01 14:48:14</td>\n",
       "      <td>0.00</td>\n",
       "      <td>0.00</td>\n",
       "      <td>1.0</td>\n",
       "      <td>1.0</td>\n",
       "      <td>91064</td>\n",
       "    </tr>\n",
       "    <tr>\n",
       "      <th>10726591</th>\n",
       "      <td>7219455262010854222</td>\n",
       "      <td>M</td>\n",
       "      <td>40</td>\n",
       "      <td>M39+</td>\n",
       "      <td>2016-05-06 21:26:20</td>\n",
       "      <td>119.80</td>\n",
       "      <td>33.79</td>\n",
       "      <td>1.0</td>\n",
       "      <td>1.0</td>\n",
       "      <td>30651</td>\n",
       "    </tr>\n",
       "    <tr>\n",
       "      <th>7914743</th>\n",
       "      <td>3074308677943390456</td>\n",
       "      <td>M</td>\n",
       "      <td>24</td>\n",
       "      <td>M23-26</td>\n",
       "      <td>2016-05-06 22:36:16</td>\n",
       "      <td>108.58</td>\n",
       "      <td>34.42</td>\n",
       "      <td>1.0</td>\n",
       "      <td>0.0</td>\n",
       "      <td>22712</td>\n",
       "    </tr>\n",
       "  </tbody>\n",
       "</table>\n",
       "</div>"
      ],
      "text/plain": [
       "                    device_id gender  age   group            timestamp  \\\n",
       "4406037  -8106907372370267374      F   27  F27-28  2016-05-07 15:09:06   \n",
       "138793    2010853208400422281      F   26  F24-26  2016-05-03 10:54:22   \n",
       "1787800   4010143991042312665      F   23    F23-  2016-05-01 14:48:14   \n",
       "10726591  7219455262010854222      M   40    M39+  2016-05-06 21:26:20   \n",
       "7914743   3074308677943390456      M   24  M23-26  2016-05-06 22:36:16   \n",
       "\n",
       "          longitude  latitude  is_installed  is_active   apps  \n",
       "4406037        0.00      0.00           1.0        1.0  91064  \n",
       "138793         0.00      0.00           1.0        0.0  52603  \n",
       "1787800        0.00      0.00           1.0        1.0  91064  \n",
       "10726591     119.80     33.79           1.0        1.0  30651  \n",
       "7914743      108.58     34.42           1.0        0.0  22712  "
      ]
     },
     "execution_count": 10,
     "metadata": {},
     "output_type": "execute_result"
    }
   ],
   "source": [
    "train_apps.sample(5)"
   ]
  },
  {
   "cell_type": "code",
   "execution_count": 12,
   "metadata": {},
   "outputs": [
    {
     "data": {
      "text/plain": [
       "23290"
      ]
     },
     "execution_count": 12,
     "metadata": {},
     "output_type": "execute_result"
    }
   ],
   "source": [
    "train_apps['device_id'].nunique()"
   ]
  },
  {
   "cell_type": "markdown",
   "metadata": {},
   "source": [
    "## Total Apps and Active Apps per person\n"
   ]
  },
  {
   "cell_type": "code",
   "execution_count": 108,
   "metadata": {
    "collapsed": true
   },
   "outputs": [],
   "source": [
    "# grabbing only the rows with provided data for 'is_installed' and 'is_active\n",
    "train_total_apps = gender_age_train[gender_age_train['device_id'].isin(events['device_id'])]"
   ]
  },
  {
   "cell_type": "code",
   "execution_count": 146,
   "metadata": {
    "collapsed": true
   },
   "outputs": [
    {
     "name": "stderr",
     "output_type": "stream",
     "text": [
      "0it [00:00, ?it/s]C:\\Users\\Papasmurfff\\Anaconda3\\lib\\site-packages\\ipykernel\\__main__.py:7: SettingWithCopyWarning: \n",
      "A value is trying to be set on a copy of a slice from a DataFrame\n",
      "\n",
      "See the caveats in the documentation: http://pandas.pydata.org/pandas-docs/stable/indexing.html#indexing-view-versus-copy\n",
      "C:\\Users\\Papasmurfff\\Anaconda3\\lib\\site-packages\\IPython\\core\\interactiveshell.py:2881: SettingWithCopyWarning: \n",
      "A value is trying to be set on a copy of a slice from a DataFrame\n",
      "\n",
      "See the caveats in the documentation: http://pandas.pydata.org/pandas-docs/stable/indexing.html#indexing-view-versus-copy\n",
      "  exec(code_obj, self.user_global_ns, self.user_ns)\n",
      "C:\\Users\\Papasmurfff\\Anaconda3\\lib\\site-packages\\ipykernel\\__main__.py:10: SettingWithCopyWarning: \n",
      "A value is trying to be set on a copy of a slice from a DataFrame\n",
      "\n",
      "See the caveats in the documentation: http://pandas.pydata.org/pandas-docs/stable/indexing.html#indexing-view-versus-copy\n",
      "23309it [1:17:06,  5.31it/s]\n"
     ]
    }
   ],
   "source": [
    "#creating new column 'total_active' and 'total_apps' \n",
    "unique_apps = train_total_apps['device_id'].unique()\n",
    "for i, app in tqdm(enumerate(unique_apps)):\n",
    "\n",
    "    train_total_apps['total_active'][i] = (\n",
    "                                     train_apps[train_apps['device_id']==app]\n",
    "                                     [train_apps[train_apps['device_id']==app]\n",
    "                                     ['is_active']==1]\n",
    "                                     ['apps'].nunique()\n",
    "                                     )\n",
    "    \n",
    "    train_total_apps['total_apps'][i] = train_apps[train_apps['device_id']==app]['apps'].nunique()\n",
    "\n",
    "train_total_apps.to_pickle('train_total_apps.pkl')"
   ]
  },
  {
   "cell_type": "code",
   "execution_count": 13,
   "metadata": {
    "collapsed": true
   },
   "outputs": [],
   "source": [
    "train_total_apps= pd.read_pickle('train_total_apps.pkl')"
   ]
  },
  {
   "cell_type": "code",
   "execution_count": 14,
   "metadata": {},
   "outputs": [
    {
     "data": {
      "text/html": [
       "<div>\n",
       "<style>\n",
       "    .dataframe thead tr:only-child th {\n",
       "        text-align: right;\n",
       "    }\n",
       "\n",
       "    .dataframe thead th {\n",
       "        text-align: left;\n",
       "    }\n",
       "\n",
       "    .dataframe tbody tr th {\n",
       "        vertical-align: top;\n",
       "    }\n",
       "</style>\n",
       "<table border=\"1\" class=\"dataframe\">\n",
       "  <thead>\n",
       "    <tr style=\"text-align: right;\">\n",
       "      <th></th>\n",
       "      <th>device_id</th>\n",
       "      <th>gender</th>\n",
       "      <th>age</th>\n",
       "      <th>group</th>\n",
       "      <th>total apps</th>\n",
       "      <th>total_active</th>\n",
       "      <th>total_apps</th>\n",
       "    </tr>\n",
       "  </thead>\n",
       "  <tbody>\n",
       "    <tr>\n",
       "      <th>0</th>\n",
       "      <td>-8260683887967679142</td>\n",
       "      <td>M</td>\n",
       "      <td>35</td>\n",
       "      <td>M32-38</td>\n",
       "      <td>20</td>\n",
       "      <td>6</td>\n",
       "      <td>53</td>\n",
       "    </tr>\n",
       "    <tr>\n",
       "      <th>1</th>\n",
       "      <td>7477216237379271436</td>\n",
       "      <td>F</td>\n",
       "      <td>37</td>\n",
       "      <td>F33-42</td>\n",
       "      <td>20</td>\n",
       "      <td>16</td>\n",
       "      <td>30</td>\n",
       "    </tr>\n",
       "    <tr>\n",
       "      <th>2</th>\n",
       "      <td>6352067998666467520</td>\n",
       "      <td>M</td>\n",
       "      <td>32</td>\n",
       "      <td>M32-38</td>\n",
       "      <td>20</td>\n",
       "      <td>15</td>\n",
       "      <td>20</td>\n",
       "    </tr>\n",
       "    <tr>\n",
       "      <th>3</th>\n",
       "      <td>1508636020748379883</td>\n",
       "      <td>F</td>\n",
       "      <td>28</td>\n",
       "      <td>F27-28</td>\n",
       "      <td>20</td>\n",
       "      <td>18</td>\n",
       "      <td>24</td>\n",
       "    </tr>\n",
       "    <tr>\n",
       "      <th>4</th>\n",
       "      <td>-6876541075223249434</td>\n",
       "      <td>M</td>\n",
       "      <td>75</td>\n",
       "      <td>M39+</td>\n",
       "      <td>20</td>\n",
       "      <td>34</td>\n",
       "      <td>96</td>\n",
       "    </tr>\n",
       "  </tbody>\n",
       "</table>\n",
       "</div>"
      ],
      "text/plain": [
       "             device_id gender  age   group  total apps  total_active  \\\n",
       "0 -8260683887967679142      M   35  M32-38          20             6   \n",
       "1  7477216237379271436      F   37  F33-42          20            16   \n",
       "2  6352067998666467520      M   32  M32-38          20            15   \n",
       "3  1508636020748379883      F   28  F27-28          20            18   \n",
       "4 -6876541075223249434      M   75    M39+          20            34   \n",
       "\n",
       "   total_apps  \n",
       "0          53  \n",
       "1          30  \n",
       "2          20  \n",
       "3          24  \n",
       "4          96  "
      ]
     },
     "execution_count": 14,
     "metadata": {},
     "output_type": "execute_result"
    }
   ],
   "source": [
    "train_total_apps.head()"
   ]
  },
  {
   "cell_type": "markdown",
   "metadata": {},
   "source": [
    "### Bar Plot showing average installed apps vs average active apps"
   ]
  },
  {
   "cell_type": "code",
   "execution_count": 15,
   "metadata": {},
   "outputs": [
    {
     "data": {
      "image/png": "[encoded data removed]",
      "text/plain": [
       "<matplotlib.figure.Figure at 0x2ac18a35f98>"
      ]
     },
     "metadata": {},
     "output_type": "display_data"
    }
   ],
   "source": [
    "columns=['M22-','M23-26','M27-28','M29-31','M32-38', 'M39+','F23-','F24-26','F27-28','F29-32','F33-42','F43+']\n",
    "total_apps = pd.DataFrame(columns=columns, index=range(12))\n",
    "active_apps = pd.DataFrame(columns=columns, index=range(12))\n",
    "\n",
    "for column in columns:\n",
    "\n",
    "    total_apps[column] = train_total_apps[train_total_apps['group']==column]['total_apps'].mean()\n",
    "    active_apps[column] = train_total_apps[train_total_apps['group']==column]['total_active'].mean()\n",
    "\n",
    "fig=plt.figure(figsize=(15,7))\n",
    "sns.set(font_scale=2)\n",
    "sns.barplot(data=total_apps, color='green', label='installed')\n",
    "sns.barplot(data=active_apps, color='red', label='active')\n",
    "plt.title('Average Installed Apps vs Average Active Apps')\n",
    "plt.legend()\n",
    "plt.show()"
   ]
  },
  {
   "cell_type": "markdown",
   "metadata": {},
   "source": [
    "# Popular Apps"
   ]
  },
  {
   "cell_type": "code",
   "execution_count": 19,
   "metadata": {},
   "outputs": [
    {
     "data": {
      "text/html": [
       "<div>\n",
       "<style>\n",
       "    .dataframe thead tr:only-child th {\n",
       "        text-align: right;\n",
       "    }\n",
       "\n",
       "    .dataframe thead th {\n",
       "        text-align: left;\n",
       "    }\n",
       "\n",
       "    .dataframe tbody tr th {\n",
       "        vertical-align: top;\n",
       "    }\n",
       "</style>\n",
       "<table border=\"1\" class=\"dataframe\">\n",
       "  <thead>\n",
       "    <tr style=\"text-align: right;\">\n",
       "      <th></th>\n",
       "      <th>device_id</th>\n",
       "      <th>gender</th>\n",
       "      <th>age</th>\n",
       "      <th>group</th>\n",
       "      <th>timestamp</th>\n",
       "      <th>longitude</th>\n",
       "      <th>latitude</th>\n",
       "      <th>is_installed</th>\n",
       "      <th>is_active</th>\n",
       "      <th>apps</th>\n",
       "    </tr>\n",
       "  </thead>\n",
       "  <tbody>\n",
       "    <tr>\n",
       "      <th>2</th>\n",
       "      <td>-8260683887967679142</td>\n",
       "      <td>M</td>\n",
       "      <td>35</td>\n",
       "      <td>M32-38</td>\n",
       "      <td>2016-05-01 14:23:37</td>\n",
       "      <td>0.0</td>\n",
       "      <td>0.0</td>\n",
       "      <td>1.0</td>\n",
       "      <td>0.0</td>\n",
       "      <td>82007</td>\n",
       "    </tr>\n",
       "    <tr>\n",
       "      <th>3</th>\n",
       "      <td>-8260683887967679142</td>\n",
       "      <td>M</td>\n",
       "      <td>35</td>\n",
       "      <td>M32-38</td>\n",
       "      <td>2016-05-01 14:23:37</td>\n",
       "      <td>0.0</td>\n",
       "      <td>0.0</td>\n",
       "      <td>1.0</td>\n",
       "      <td>0.0</td>\n",
       "      <td>29719</td>\n",
       "    </tr>\n",
       "    <tr>\n",
       "      <th>4</th>\n",
       "      <td>-8260683887967679142</td>\n",
       "      <td>M</td>\n",
       "      <td>35</td>\n",
       "      <td>M32-38</td>\n",
       "      <td>2016-05-01 14:23:37</td>\n",
       "      <td>0.0</td>\n",
       "      <td>0.0</td>\n",
       "      <td>1.0</td>\n",
       "      <td>0.0</td>\n",
       "      <td>93807</td>\n",
       "    </tr>\n",
       "    <tr>\n",
       "      <th>5</th>\n",
       "      <td>-8260683887967679142</td>\n",
       "      <td>M</td>\n",
       "      <td>35</td>\n",
       "      <td>M32-38</td>\n",
       "      <td>2016-05-01 14:23:37</td>\n",
       "      <td>0.0</td>\n",
       "      <td>0.0</td>\n",
       "      <td>1.0</td>\n",
       "      <td>0.0</td>\n",
       "      <td>3068</td>\n",
       "    </tr>\n",
       "    <tr>\n",
       "      <th>6</th>\n",
       "      <td>-8260683887967679142</td>\n",
       "      <td>M</td>\n",
       "      <td>35</td>\n",
       "      <td>M32-38</td>\n",
       "      <td>2016-05-01 14:23:37</td>\n",
       "      <td>0.0</td>\n",
       "      <td>0.0</td>\n",
       "      <td>1.0</td>\n",
       "      <td>1.0</td>\n",
       "      <td>61535</td>\n",
       "    </tr>\n",
       "  </tbody>\n",
       "</table>\n",
       "</div>"
      ],
      "text/plain": [
       "             device_id gender  age   group            timestamp  longitude  \\\n",
       "2 -8260683887967679142      M   35  M32-38  2016-05-01 14:23:37        0.0   \n",
       "3 -8260683887967679142      M   35  M32-38  2016-05-01 14:23:37        0.0   \n",
       "4 -8260683887967679142      M   35  M32-38  2016-05-01 14:23:37        0.0   \n",
       "5 -8260683887967679142      M   35  M32-38  2016-05-01 14:23:37        0.0   \n",
       "6 -8260683887967679142      M   35  M32-38  2016-05-01 14:23:37        0.0   \n",
       "\n",
       "   latitude  is_installed  is_active   apps  \n",
       "2       0.0           1.0        0.0  82007  \n",
       "3       0.0           1.0        0.0  29719  \n",
       "4       0.0           1.0        0.0  93807  \n",
       "5       0.0           1.0        0.0   3068  \n",
       "6       0.0           1.0        1.0  61535  "
      ]
     },
     "execution_count": 19,
     "metadata": {},
     "output_type": "execute_result"
    }
   ],
   "source": [
    "train_apps.head()"
   ]
  },
  {
   "cell_type": "code",
   "execution_count": 20,
   "metadata": {
    "collapsed": true
   },
   "outputs": [],
   "source": [
    "train_apps.drop(['timestamp','longitude', 'latitude', 'is_installed',], axis=1, inplace=True)"
   ]
  },
  {
   "cell_type": "code",
   "execution_count": 21,
   "metadata": {},
   "outputs": [
    {
     "data": {
      "text/plain": [
       "(12129881, 6)"
      ]
     },
     "execution_count": 21,
     "metadata": {},
     "output_type": "execute_result"
    }
   ],
   "source": [
    "train_apps.shape"
   ]
  },
  {
   "cell_type": "code",
   "execution_count": 22,
   "metadata": {
    "collapsed": true
   },
   "outputs": [],
   "source": [
    "# this will make sure the same apps do not get counted twice per personn\n",
    "\n",
    "train_apps_active = train_apps[train_apps['is_active']==1]"
   ]
  },
  {
   "cell_type": "code",
   "execution_count": 23,
   "metadata": {},
   "outputs": [
    {
     "data": {
      "text/plain": [
       "(4747466, 6)"
      ]
     },
     "execution_count": 23,
     "metadata": {},
     "output_type": "execute_result"
    }
   ],
   "source": [
    "train_apps_active.shape"
   ]
  },
  {
   "cell_type": "code",
   "execution_count": 24,
   "metadata": {},
   "outputs": [
    {
     "data": {
      "text/plain": [
       "110157    18729\n",
       "91064     18286\n",
       "82340     10760\n",
       "60083      8159\n",
       "39760      6916\n",
       "52193      5643\n",
       "88699      4894\n",
       "99975      4039\n",
       "77172      3789\n",
       "14853      3624\n",
       "13609      3442\n",
       "4071       3165\n",
       "93433      3069\n",
       "111588     3059\n",
       "98793      2967\n",
       "Name: apps, dtype: int64"
      ]
     },
     "execution_count": 24,
     "metadata": {},
     "output_type": "execute_result"
    }
   ],
   "source": [
    "train_apps_active[train_apps_active['group']=='M22-']['apps'].value_counts()[:15]"
   ]
  },
  {
   "cell_type": "markdown",
   "metadata": {},
   "source": [
    "### # of times phone was used in 1 week"
   ]
  },
  {
   "cell_type": "code",
   "execution_count": 16,
   "metadata": {},
   "outputs": [
    {
     "data": {
      "text/html": [
       "<div>\n",
       "<style>\n",
       "    .dataframe thead tr:only-child th {\n",
       "        text-align: right;\n",
       "    }\n",
       "\n",
       "    .dataframe thead th {\n",
       "        text-align: left;\n",
       "    }\n",
       "\n",
       "    .dataframe tbody tr th {\n",
       "        vertical-align: top;\n",
       "    }\n",
       "</style>\n",
       "<table border=\"1\" class=\"dataframe\">\n",
       "  <thead>\n",
       "    <tr style=\"text-align: right;\">\n",
       "      <th></th>\n",
       "      <th>M22-</th>\n",
       "      <th>M23-26</th>\n",
       "      <th>M27-28</th>\n",
       "      <th>M29-31</th>\n",
       "      <th>M32-38</th>\n",
       "      <th>M39+</th>\n",
       "      <th>F23-</th>\n",
       "      <th>F24-26</th>\n",
       "      <th>F27-28</th>\n",
       "      <th>F29-32</th>\n",
       "      <th>F33-42</th>\n",
       "      <th>F43+</th>\n",
       "    </tr>\n",
       "  </thead>\n",
       "  <tbody>\n",
       "    <tr>\n",
       "      <th>0</th>\n",
       "      <td>18.441347</td>\n",
       "      <td>23.286643</td>\n",
       "      <td>23.801427</td>\n",
       "      <td>25.583574</td>\n",
       "      <td>28.553925</td>\n",
       "      <td>29.251833</td>\n",
       "      <td>15.8337</td>\n",
       "      <td>20.001754</td>\n",
       "      <td>20.024008</td>\n",
       "      <td>19.761355</td>\n",
       "      <td>22.789301</td>\n",
       "      <td>21.794399</td>\n",
       "    </tr>\n",
       "  </tbody>\n",
       "</table>\n",
       "</div>"
      ],
      "text/plain": [
       "        M22-     M23-26     M27-28     M29-31     M32-38       M39+     F23-  \\\n",
       "0  18.441347  23.286643  23.801427  25.583574  28.553925  29.251833  15.8337   \n",
       "\n",
       "      F24-26     F27-28     F29-32     F33-42       F43+  \n",
       "0  20.001754  20.024008  19.761355  22.789301  21.794399  "
      ]
     },
     "execution_count": 16,
     "metadata": {},
     "output_type": "execute_result"
    }
   ],
   "source": [
    "groups = ['M22-','M23-26','M27-28','M29-31','M32-38', 'M39+','F23-','F24-26','F27-28','F29-32','F33-42','F43+']\n",
    "\n",
    "average_usage = pd.DataFrame(columns = groups, index=range(1))\n",
    "\n",
    "for group in groups:\n",
    "    \n",
    "    #summing all unique timestamps, each timestamp indicates phone usage\n",
    "    sum_timestamps_count = (    sum(train_apps[train_apps['group']==group]\n",
    "                                    .groupby(['device_id'])['timestamp'].nunique().values)\n",
    "                            )\n",
    "\n",
    "    timestamp_count = (    len(train_apps[train_apps['group']==group]\n",
    "                              .groupby(['device_id'])['timestamp'].nunique().values)\n",
    "                      )\n",
    "\n",
    "    average_usage[group] = sum_timestamps_count/timestamp_count\n",
    "\n",
    "average_usage\n"
   ]
  },
  {
   "cell_type": "code",
   "execution_count": 18,
   "metadata": {},
   "outputs": [
    {
     "data": {
      "text/plain": [
       "<matplotlib.text.Text at 0x2ac00b75908>"
      ]
     },
     "execution_count": 18,
     "metadata": {},
     "output_type": "execute_result"
    },
    {
     "data": {
      "image/png": "[encoded data removed]",
      "text/plain": [
       "<matplotlib.figure.Figure at 0x2ac00b32c50>"
      ]
     },
     "metadata": {},
     "output_type": "display_data"
    }
   ],
   "source": [
    "fig = plt.figure(figsize=(15,7))\n",
    "sns.set(font_scale=2)\n",
    "sns.barplot(data = average_usage)\n",
    "plt.title('Average Phone Usage in 1 week')\n",
    "plt.ylabel('Average # of times phone was used')"
   ]
  }
 ],
 "metadata": {
  "kernelspec": {
   "display_name": "Python 3",
   "language": "python",
   "name": "python3"
  },
  "language_info": {
   "codemirror_mode": {
    "name": "ipython",
    "version": 3
   },
   "file_extension": ".py",
   "mimetype": "text/x-python",
   "name": "python",
   "nbconvert_exporter": "python",
   "pygments_lexer": "ipython3",
   "version": "3.6.0"
  }
 },
 "nbformat": 4,
 "nbformat_minor": 2
}
